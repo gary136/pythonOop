{
 "cells": [
  {
   "cell_type": "code",
   "execution_count": 3,
   "metadata": {},
   "outputs": [],
   "source": [
    "class Employee_test:\n",
    "    num_of_emps = 0\n",
    "    raise_amt = 1.04\n",
    "    def __init__(self,first,last,pay):\n",
    "        self.first = first\n",
    "        self.last = last \n",
    "        self.pay = pay\n",
    "        self.email = first + '.' + last + '@company.com'\n",
    "        \n",
    "        Employee_test.num_of_emps += 1\n",
    "        \n",
    "    def fullname(self):\n",
    "        return '{} {}'.format(self.first, self.last)\n",
    "    \n",
    "    def apply_raise(self):\n",
    "        self.pay = int(self.pay * self.raise_amt)\n",
    "        \n",
    "    @classmethod\n",
    "    def set_raise_amt(cls, amount):\n",
    "        cls.raise_amt = amount\n",
    "    \n",
    "    \n",
    "    def from_string(self, emp_str):\n",
    "        #print(self.first + emp_str)\n",
    "        self.first, self.last, self.pay = emp_str.split('-')\n",
    "    \n",
    "    @staticmethod\n",
    "    def is_workday(day):\n",
    "        if day.weekday() == 5 or day.weekday() == 6:\n",
    "            return False\n",
    "        return True\n",
    "    \n",
    "    def change_first(self):\n",
    "        self.first += 'aaa'\n",
    "        \n",
    "    def setemail(self):\n",
    "        return self.first + '.' + self.last + '@company.com'"
   ]
  },
  {
   "cell_type": "code",
   "execution_count": 4,
   "metadata": {},
   "outputs": [],
   "source": [
    "emp_3 = Employee_test('test', 'name', 0000000)"
   ]
  },
  {
   "cell_type": "code",
   "execution_count": 5,
   "metadata": {},
   "outputs": [
    {
     "name": "stdout",
     "output_type": "stream",
     "text": [
      "test\n",
      "name\n",
      "0\n",
      "John\n",
      "Doe\n",
      "70000\n",
      "test.name@company.com\n",
      "John.Doe@company.com\n"
     ]
    }
   ],
   "source": [
    "emp_str_1 = 'John-Doe-70000'\n",
    "emp_str_2 = 'Steve-Smith-30000'\n",
    "emp_str_3 = 'Jane-Doe-90000'\n",
    "\n",
    "print(emp_3.first)\n",
    "print(emp_3.last)\n",
    "print(emp_3.pay)\n",
    "emp_3.from_string(emp_str_1)\n",
    "print(emp_3.first)\n",
    "print(emp_3.last)\n",
    "print(emp_3.pay)\n",
    "print(emp_3.email)\n",
    "print(emp_3.setemail())"
   ]
  },
  {
   "cell_type": "code",
   "execution_count": 6,
   "metadata": {},
   "outputs": [
    {
     "name": "stdout",
     "output_type": "stream",
     "text": [
      "John\n",
      "Doe\n",
      "70000\n",
      "test.name@company.com\n",
      "John.Doe@company.com\n",
      "Johnaaa\n",
      "Doe\n",
      "70000\n",
      "test.name@company.com\n",
      "Johnaaa.Doe@company.com\n"
     ]
    }
   ],
   "source": [
    "print(emp_3.first)\n",
    "print(emp_3.last)\n",
    "print(emp_3.pay)\n",
    "print(emp_3.email)\n",
    "print(emp_3.setemail())\n",
    "emp_3.change_first()\n",
    "print(emp_3.first)\n",
    "print(emp_3.last)\n",
    "print(emp_3.pay)\n",
    "print(emp_3.email)\n",
    "print(emp_3.setemail())"
   ]
  },
  {
   "cell_type": "code",
   "execution_count": null,
   "metadata": {},
   "outputs": [],
   "source": []
  }
 ],
 "metadata": {
  "kernelspec": {
   "display_name": "Python 3",
   "language": "python",
   "name": "python3"
  },
  "language_info": {
   "codemirror_mode": {
    "name": "ipython",
    "version": 3
   },
   "file_extension": ".py",
   "mimetype": "text/x-python",
   "name": "python",
   "nbconvert_exporter": "python",
   "pygments_lexer": "ipython3",
   "version": "3.6.4"
  }
 },
 "nbformat": 4,
 "nbformat_minor": 2
}
